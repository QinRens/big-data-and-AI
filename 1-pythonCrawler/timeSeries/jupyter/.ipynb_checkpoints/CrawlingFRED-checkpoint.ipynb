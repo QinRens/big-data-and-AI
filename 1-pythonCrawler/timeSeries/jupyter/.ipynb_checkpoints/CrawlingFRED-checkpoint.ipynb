{
 "cells": [
  {
   "cell_type": "markdown",
   "metadata": {},
   "source": [
    "# How to Crawling Fred Big Data in a Rapid and Methodical Way"
   ]
  },
  {
   "cell_type": "markdown",
   "metadata": {},
   "source": [
    "Author: Yadong Zhang\n",
    "\n",
    "Date: 9-28-2018\n",
    "\n",
    "E-main: ydup@foxmail.com\n",
    "\n",
    "## What is Fred?\n",
    "\n",
    "<img src=\"../img/FRED.png\"  alt=\"fred\" />\n",
    "\n",
    "> [FRED](https://fred.stlouisfed.org/): Download, graph, and track 527,000 US and international time series from 87 sources.\n",
    " \n",
    "The data can be obtained by Tag, Category, Release, Source, Release Calendar. And there are many tools / [APIs](https://research.stlouisfed.org/docs/api/fred/) for you to crawl the data, such as [fredapi](https://github.com/mortada/fredapi) of python. And in this notebook, I will show you how to use fredapi with python to download the fred data in a rapid and methodical way. Let's go : )"
   ]
  },
  {
   "cell_type": "markdown",
   "metadata": {},
   "source": [
    "## A Basic Test for the FredAPI\n",
    "Firstly, let's try to download a kind of series data with the help of [FredAPI](https://github.com/mortada/fredapi) :)"
   ]
  },
  {
   "cell_type": "markdown",
   "metadata": {},
   "source": [
    "### Install fredapi with Pip and Register to Get a API Key"
   ]
  },
  {
   "cell_type": "code",
   "execution_count": 3,
   "metadata": {},
   "outputs": [],
   "source": [
    "from fredapi import Fred\n",
    "fred = Fred(api_key='APIkey')"
   ]
  },
  {
   "cell_type": "markdown",
   "metadata": {},
   "source": [
    "### Download Data with its Series ID"
   ]
  },
  {
   "cell_type": "code",
   "execution_count": 4,
   "metadata": {},
   "outputs": [],
   "source": [
    "import matplotlib.pyplot as plt"
   ]
  },
  {
   "cell_type": "code",
   "execution_count": 5,
   "metadata": {},
   "outputs": [
    {
     "data": {
      "text/plain": [
       "[<matplotlib.lines.Line2D at 0x111f08350>]"
      ]
     },
     "execution_count": 5,
     "metadata": {},
     "output_type": "execute_result"
    },
    {
     "data": {
      "image/png": "[encoded data removed]",
      "text/plain": [
       "<matplotlib.figure.Figure at 0x110019610>"
      ]
     },
     "metadata": {},
     "output_type": "display_data"
    }
   ],
   "source": [
    "data = fred.get_series('T10Y2Y')\n",
    "plt.plot(data)"
   ]
  },
  {
   "cell_type": "code",
   "execution_count": 6,
   "metadata": {},
   "outputs": [
    {
     "data": {
      "text/plain": [
       "frequency                                                                Daily\n",
       "frequency_short                                                              D\n",
       "id                                                                      T10Y2Y\n",
       "last_updated                                            2018-09-27 15:51:16-05\n",
       "notes                        Series is calculated as the spread between 10-...\n",
       "observation_end                                                     2018-09-26\n",
       "observation_start                                                   1976-06-01\n",
       "popularity                                                                 100\n",
       "realtime_end                                                        2018-09-28\n",
       "realtime_start                                                      2018-09-28\n",
       "seasonal_adjustment                                    Not Seasonally Adjusted\n",
       "seasonal_adjustment_short                                                  NSA\n",
       "title                        10-Year Treasury Constant Maturity Minus 2-Yea...\n",
       "units                                                                  Percent\n",
       "units_short                                                                  %\n",
       "dtype: object"
      ]
     },
     "execution_count": 6,
     "metadata": {},
     "output_type": "execute_result"
    }
   ],
   "source": [
    "# Get the series information\n",
    "fred.get_series_info('T10Y2Y')"
   ]
  },
  {
   "cell_type": "markdown",
   "metadata": {},
   "source": [
    "### Download Data with its Catogory\n",
    "You can choose a category index and then search the most popular series, and any item of the table can be download with its _series id_.\n",
    "\n",
    "But here, you may be confused about the category index. How do I know the meaning of the index? \n",
    "Don't worry. I will solve this for you in the next section : )"
   ]
  },
  {
   "cell_type": "code",
   "execution_count": 7,
   "metadata": {},
   "outputs": [
    {
     "data": {
      "text/html": [
       "<div>\n",
       "<table border=\"1\" class=\"dataframe\">\n",
       "  <thead>\n",
       "    <tr style=\"text-align: right;\">\n",
       "      <th></th>\n",
       "      <th>frequency</th>\n",
       "      <th>frequency_short</th>\n",
       "      <th>id</th>\n",
       "      <th>last_updated</th>\n",
       "      <th>notes</th>\n",
       "      <th>observation_end</th>\n",
       "      <th>observation_start</th>\n",
       "      <th>popularity</th>\n",
       "      <th>realtime_end</th>\n",
       "      <th>realtime_start</th>\n",
       "      <th>seasonal_adjustment</th>\n",
       "      <th>seasonal_adjustment_short</th>\n",
       "      <th>title</th>\n",
       "      <th>units</th>\n",
       "      <th>units_short</th>\n",
       "    </tr>\n",
       "    <tr>\n",
       "      <th>series id</th>\n",
       "      <th></th>\n",
       "      <th></th>\n",
       "      <th></th>\n",
       "      <th></th>\n",
       "      <th></th>\n",
       "      <th></th>\n",
       "      <th></th>\n",
       "      <th></th>\n",
       "      <th></th>\n",
       "      <th></th>\n",
       "      <th></th>\n",
       "      <th></th>\n",
       "      <th></th>\n",
       "      <th></th>\n",
       "      <th></th>\n",
       "    </tr>\n",
       "  </thead>\n",
       "  <tbody>\n",
       "    <tr>\n",
       "      <th>TERMCBAUTO48NS</th>\n",
       "      <td>Monthly</td>\n",
       "      <td>M</td>\n",
       "      <td>TERMCBAUTO48NS</td>\n",
       "      <td>2018-07-09 19:51:02</td>\n",
       "      <td>For further information, please refer to the B...</td>\n",
       "      <td>2018-05-01</td>\n",
       "      <td>1972-02-01</td>\n",
       "      <td>66</td>\n",
       "      <td>2018-09-28</td>\n",
       "      <td>2018-09-28</td>\n",
       "      <td>Not Seasonally Adjusted</td>\n",
       "      <td>NSA</td>\n",
       "      <td>Finance Rate on Consumer Installment Loans at ...</td>\n",
       "      <td>Percent</td>\n",
       "      <td>%</td>\n",
       "    </tr>\n",
       "    <tr>\n",
       "      <th>RIFLPBCIANM60NM</th>\n",
       "      <td>Monthly</td>\n",
       "      <td>M</td>\n",
       "      <td>RIFLPBCIANM60NM</td>\n",
       "      <td>2018-07-09 20:01:02</td>\n",
       "      <td>For further information, please refer to the B...</td>\n",
       "      <td>2018-05-01</td>\n",
       "      <td>2006-08-01</td>\n",
       "      <td>52</td>\n",
       "      <td>2018-09-28</td>\n",
       "      <td>2018-09-28</td>\n",
       "      <td>Not Seasonally Adjusted</td>\n",
       "      <td>NSA</td>\n",
       "      <td>Finance Rate on Consumer Installment Loans at ...</td>\n",
       "      <td>Percent</td>\n",
       "      <td>%</td>\n",
       "    </tr>\n",
       "    <tr>\n",
       "      <th>TERMAFCNCNSA</th>\n",
       "      <td>Monthly</td>\n",
       "      <td>M</td>\n",
       "      <td>TERMAFCNCNSA</td>\n",
       "      <td>2012-06-26 17:01:23</td>\n",
       "      <td>For further information, please refer to the B...</td>\n",
       "      <td>2011-01-01</td>\n",
       "      <td>1971-06-01</td>\n",
       "      <td>38</td>\n",
       "      <td>2018-09-28</td>\n",
       "      <td>2018-09-28</td>\n",
       "      <td>Not Seasonally Adjusted</td>\n",
       "      <td>NSA</td>\n",
       "      <td>New Car Average Finance Rate at Auto Finance C...</td>\n",
       "      <td>Percent</td>\n",
       "      <td>%</td>\n",
       "    </tr>\n",
       "  </tbody>\n",
       "</table>\n",
       "</div>"
      ],
      "text/plain": [
       "                frequency frequency_short               id  \\\n",
       "series id                                                    \n",
       "TERMCBAUTO48NS    Monthly               M   TERMCBAUTO48NS   \n",
       "RIFLPBCIANM60NM   Monthly               M  RIFLPBCIANM60NM   \n",
       "TERMAFCNCNSA      Monthly               M     TERMAFCNCNSA   \n",
       "\n",
       "                       last_updated  \\\n",
       "series id                             \n",
       "TERMCBAUTO48NS  2018-07-09 19:51:02   \n",
       "RIFLPBCIANM60NM 2018-07-09 20:01:02   \n",
       "TERMAFCNCNSA    2012-06-26 17:01:23   \n",
       "\n",
       "                                                             notes  \\\n",
       "series id                                                            \n",
       "TERMCBAUTO48NS   For further information, please refer to the B...   \n",
       "RIFLPBCIANM60NM  For further information, please refer to the B...   \n",
       "TERMAFCNCNSA     For further information, please refer to the B...   \n",
       "\n",
       "                observation_end observation_start popularity realtime_end  \\\n",
       "series id                                                                   \n",
       "TERMCBAUTO48NS       2018-05-01        1972-02-01         66   2018-09-28   \n",
       "RIFLPBCIANM60NM      2018-05-01        2006-08-01         52   2018-09-28   \n",
       "TERMAFCNCNSA         2011-01-01        1971-06-01         38   2018-09-28   \n",
       "\n",
       "                realtime_start      seasonal_adjustment  \\\n",
       "series id                                                 \n",
       "TERMCBAUTO48NS      2018-09-28  Not Seasonally Adjusted   \n",
       "RIFLPBCIANM60NM     2018-09-28  Not Seasonally Adjusted   \n",
       "TERMAFCNCNSA        2018-09-28  Not Seasonally Adjusted   \n",
       "\n",
       "                seasonal_adjustment_short  \\\n",
       "series id                                   \n",
       "TERMCBAUTO48NS                        NSA   \n",
       "RIFLPBCIANM60NM                       NSA   \n",
       "TERMAFCNCNSA                          NSA   \n",
       "\n",
       "                                                             title    units  \\\n",
       "series id                                                                     \n",
       "TERMCBAUTO48NS   Finance Rate on Consumer Installment Loans at ...  Percent   \n",
       "RIFLPBCIANM60NM  Finance Rate on Consumer Installment Loans at ...  Percent   \n",
       "TERMAFCNCNSA     New Car Average Finance Rate at Auto Finance C...  Percent   \n",
       "\n",
       "                units_short  \n",
       "series id                    \n",
       "TERMCBAUTO48NS            %  \n",
       "RIFLPBCIANM60NM           %  \n",
       "TERMAFCNCNSA              %  "
      ]
     },
     "execution_count": 7,
     "metadata": {},
     "output_type": "execute_result"
    }
   ],
   "source": [
    "fred.search_by_category(33058, limit=10, order_by='popularity', sort_order='desc')"
   ]
  },
  {
   "cell_type": "markdown",
   "metadata": {},
   "source": [
    "## The Strategy of Crawling Data\n",
    "Once we get the methods of downloading a specific series data, we are anxious to crawl more data, such as we want to crawl the top 10 popular data of each category.\n",
    "Here are many problems for this achievement.\n",
    "1. How many kinds of categories are there?\n",
    "2. What are the names / index of these existing category?\n",
    "3. How can I download these so many data in a rapid way?\n",
    "\n",
    "And in the order of questions, I will show you the strategy and solutions.\n"
   ]
  },
  {
   "cell_type": "markdown",
   "metadata": {},
   "source": [
    "### Establish a Tree of the Catogories Name / Index\n",
    "\n",
    "Let's go through a branch of the catogory tree by click to figure out the strategy for establishment.\n",
    "\n",
    "__The First category, let's choose money, bank and finance__\n",
    "https://fred.stlouisfed.org/categories\n",
    "<img src=\"../img/category-1.png\"  alt=\"category-1\" />\n",
    "__And we click into the href, and find that a number of 32991 is added to the tail of URL__\n",
    "https://fred.stlouisfed.org/categories/32991\n",
    "<img src=\"../img/category-2.png\"  alt=\"category-2\" />\n",
    "__We select the interest rates, and find that the number of 32991 changes into 22__\n",
    "https://fred.stlouisfed.org/categories/22\n",
    "<img src=\"../img/category-3.png\"  alt=\"category-3\" />\n",
    "__Finally, we choose the automobile loan rates, and find that the number of 22 changes into 33058__\n",
    "https://fred.stlouisfed.org/categories/33058\n",
    "<img src=\"../img/category-4.png\"  alt=\"category-4\" />\n",
    "\n",
    "And after the observation, the structure of this branch is shown here. \n",
    "\n",
    "<img src=\"../img/branch.png\" alt=\"branch\" />"
   ]
  },
  {
   "cell_type": "markdown",
   "metadata": {},
   "source": [
    "So let's crawl the index from the website instead of clicking them manually. This is the url text of the branch.\n",
    "\n",
    "__First Order Category and Second Order Category in https://fred.stlouisfed.org/categories__\n",
    "\n",
    "<div class=\"fred-categories-group\">\n",
    "<p class=\"large fred-categories-parent\">\n",
    "    <a href=\"/categories/32991\"><strong>Money, Banking, &amp; Finance</strong></a> <span class=\"category-count\">(7,400+)</span>\n",
    "</p>\n",
    "<p class=\"fred-categories-children\">\n",
    "        <span class=\"fred-categories-child\"><a href=\"/categories/22\">Interest Rates</a> <span class=\"category-count\">(810+)</span></span>\n",
    "        <span class=\"fred-categories-child\"><a href=\"/categories/15\">Exchange Rates</a> <span class=\"category-count\">(70+)</span></span>\n",
    "        <span class=\"fred-categories-child\"><a href=\"/categories/24\">Monetary Data</a> <span class=\"category-count\">(250+)</span></span>\n",
    "        <span class=\"fred-categories-child\"><a href=\"/categories/46\">Financial Indicators</a> <span class=\"category-count\">(2,100+)</span></span>\n",
    "        <span class=\"fred-categories-child\"><a href=\"/categories/23\">Banking</a> <span class=\"category-count\">(1,600+)</span></span>\n",
    "        <span class=\"fred-categories-child\"><a href=\"/categories/32360\">Business Lending</a> <span class=\"category-count\">(2,200+)</span></span>\n",
    "        <span class=\"fred-categories-child\"><a href=\"/categories/32145\">Foreign Exchange Intervention</a> <span class=\"category-count\">(3+)</span></span>\n",
    "        <br class=\"clear\">\n",
    "    <!--[if IE]><br><!endif-->\n",
    "</p>\n",
    "</div>\n",
    "\n",
    "__Third Order Category in https://fred.stlouisfed.org/categories/22__\n",
    "\n",
    "<li><a href=\"/categories/33058\">Automobile Loan Rates</a>&nbsp;(3)</li>"
   ]
  },
  {
   "cell_type": "code",
   "execution_count": 23,
   "metadata": {},
   "outputs": [],
   "source": [
    "# Version 1.0\n",
    "'''\n",
    "Crawl the first and list of second category in the mainpage, \n",
    "but some of the second category data can't be matched.\n",
    "'''\n",
    "import requests\n",
    "import re\n",
    "cateTable = []\n",
    "mainPage = requests.get('https://fred.stlouisfed.org/categories')\n",
    "# First RES for the name and index of category - 1\n",
    "fstRes = r'<p class=\"large fred-categories-parent\">\\n    <a href=\"/categories/(.*?)\"><strong>(.*?)</strong></a>(.*?)<br class=\"clear\">'\n",
    "# Second RES for the name and index of category - 2\n",
    "sndRes = r'<a href=\"/categories/(.*?)\">(.*?)</a>(.*?)<span class=\"category-count\">(.*?)</span>'\n",
    "# Third RES for the name and index of category - 3\n",
    "trdRes = r'<li><a href=\"(.*?)/categories/(.*?)\">(.*?)</a>' # Some category has a space before the '/'\n",
    "\n",
    "fstContent =  re.findall(fstRes, mainPage.text, re.S|re.M)\n",
    "for value1st in fstContent:\n",
    "    cate2 = re.findall(sndRes, value1st[2], re.S|re.M)\n",
    "    for cate2item in cate2:\n",
    "        # Give them names\n",
    "        cate1Index = value1st[0]\n",
    "        cate1Name = value1st[1]\n",
    "        cate2Index = cate2item[0]\n",
    "        cate2Name = cate2item[1]\n",
    "        cate2NumString = cate2item[3]\n",
    "        if cate2NumString == '':\n",
    "            # Some of the second category which don't have the 'category-count' is the finanl category\n",
    "            cateTable.append([int(cate1Index), cate1Name, int(cate2Index), cate2Name, int(cate2Index), cate2Name])\n",
    "        else:\n",
    "            # Get the page of category-3\n",
    "            cate3Page = requests.get(str('https://fred.stlouisfed.org/categories/'+ cate2Index))\n",
    "            # \n",
    "            trdContent =  re.findall(trdRes, cate3Page.text, re.S|re.M)\n",
    "            for value3rd in trdContent:\n",
    "                cate3Index = value3rd[1]\n",
    "                cate3Name = value3rd[2]\n",
    "                try:\n",
    "                    # There are some illegal value in the cate3Index that should be removed.\n",
    "                    # If it can't be converted into integer, we ignore this\n",
    "                    cateTable.append([int(cate1Index), cate1Name, int(cate2Index), cate2Name, int(cate3Index), cate3Name])\n",
    "                except:\n",
    "                    pass"
   ]
  },
  {
   "cell_type": "code",
   "execution_count": 93,
   "metadata": {},
   "outputs": [],
   "source": [
    "# Version 2.0\n",
    "'''\n",
    "Crawl three pages\n",
    "but some of the second category data can't be matched.\n",
    "'''\n",
    "import requests\n",
    "import re\n",
    "cateTable = []\n",
    "mainPage = requests.get('https://fred.stlouisfed.org/categories')\n",
    "# First RES for the name and index of category - 1\n",
    "fstRes = r'<p class=\"large fred-categories-parent\">\\n    <a href=\"/categories/(\\d+)\"><strong>(.*?)</strong>'\n",
    "# Second RES for the name and index of category - 2\n",
    "sndRes = r'<a href=\"( *)/categories/(\\d+)\">(.*?)</a>&nbsp;(.*?)</li>'\n",
    "# Third RES for the name and index of category - 3\n",
    "trdRes = r'<li><a href=\"(.*?)/categories/(\\d+)\">(.*?)</a>' # Some category has a space before the '/'\n",
    "\n",
    "fstContent =  re.findall(fstRes, mainPage.text, re.S|re.M)\n",
    "for value1st in fstContent:\n",
    "    cate1Index = value1st[0]\n",
    "    cate1Name = value1st[1]\n",
    "    # Crawl the second category page\n",
    "    cate2Page = requests.get(str('https://fred.stlouisfed.org/categories/'+ cate1Index))\n",
    "    cate2 = re.findall(sndRes, cate2Page.text, re.S|re.M)\n",
    "    for cate2item in cate2:\n",
    "        # Give them names\n",
    "        cate2Index = cate2item[1]\n",
    "        cate2Name = cate2item[2]\n",
    "        cate2NumString = cate2item[3]\n",
    "        if cate2NumString == '':\n",
    "            # Some of the second category which don't have the 'category-count' is the finanl category\n",
    "            cateTable.append([int(cate1Index), cate1Name, int(cate2Index), cate2Name, int(cate2Index), cate2Name])\n",
    "        else:\n",
    "            # Get the page of category-3\n",
    "            cate3Page = requests.get(str('https://fred.stlouisfed.org/categories/'+ cate2Index))\n",
    "            # \n",
    "            trdContent =  re.findall(trdRes, cate3Page.text, re.S|re.M)\n",
    "            for value3rd in trdContent:\n",
    "                cate3Index = value3rd[1]\n",
    "                cate3Name = value3rd[2]\n",
    "                try:\n",
    "                    # There are some illegal value in the cate3Index that should be removed.\n",
    "                    # If it can't be converted into integer, we ignore this\n",
    "                    cateTable.append([int(cate1Index), cate1Name, int(cate2Index), cate2Name, int(cate3Index), cate3Name])\n",
    "                except:\n",
    "                    pass"
   ]
  },
  {
   "cell_type": "code",
   "execution_count": 94,
   "metadata": {},
   "outputs": [],
   "source": [
    "treeDF = pd.DataFrame(cateTable, \n",
    "                      columns=['cate1Index', 'cate1Name', 'cate2Index', 'cate2Name', 'cate3Index', 'cate3Name'])"
   ]
  },
  {
   "cell_type": "code",
   "execution_count": 97,
   "metadata": {},
   "outputs": [
    {
     "data": {
      "text/html": [
       "<div>\n",
       "<table border=\"1\" class=\"dataframe\">\n",
       "  <thead>\n",
       "    <tr style=\"text-align: right;\">\n",
       "      <th></th>\n",
       "      <th>cate1Index</th>\n",
       "      <th>cate1Name</th>\n",
       "      <th>cate2Index</th>\n",
       "      <th>cate2Name</th>\n",
       "      <th>cate3Index</th>\n",
       "      <th>cate3Name</th>\n",
       "    </tr>\n",
       "  </thead>\n",
       "  <tbody>\n",
       "    <tr>\n",
       "      <th>154</th>\n",
       "      <td>32992</td>\n",
       "      <td>National Accounts</td>\n",
       "      <td>5</td>\n",
       "      <td>Federal Government Debt</td>\n",
       "      <td>32992</td>\n",
       "      <td>National Accounts</td>\n",
       "    </tr>\n",
       "    <tr>\n",
       "      <th>155</th>\n",
       "      <td>32992</td>\n",
       "      <td>National Accounts</td>\n",
       "      <td>5</td>\n",
       "      <td>Federal Government Debt</td>\n",
       "      <td>32992</td>\n",
       "      <td>National Accounts</td>\n",
       "    </tr>\n",
       "  </tbody>\n",
       "</table>\n",
       "</div>"
      ],
      "text/plain": [
       "     cate1Index          cate1Name  cate2Index                cate2Name  \\\n",
       "154       32992  National Accounts           5  Federal Government Debt   \n",
       "155       32992  National Accounts           5  Federal Government Debt   \n",
       "\n",
       "     cate3Index          cate3Name  \n",
       "154       32992  National Accounts  \n",
       "155       32992  National Accounts  "
      ]
     },
     "execution_count": 97,
     "metadata": {},
     "output_type": "execute_result"
    }
   ],
   "source": [
    "import numpy as np\n",
    "print np.shape(cateTable)\n",
    "treeDF[treeDF['cate2Index'] == 5]"
   ]
  },
  {
   "cell_type": "code",
   "execution_count": 98,
   "metadata": {},
   "outputs": [],
   "source": [
    "# Save the table into csv file\n",
    "import sys\n",
    "reload(sys)\n",
    "sys.setdefaultencoding('utf8')\n",
    "# Convert the name to utf8 string\n",
    "treeDF['cate1Name'] = treeDF['cate1Name'].astype(str)\n",
    "treeDF['cate2Name'] = treeDF['cate2Name'].astype(str)\n",
    "treeDF['cate3Name'] = treeDF['cate3Name'].astype(str)\n",
    "treeDF.to_csv('../data/cateTree.csv')"
   ]
  },
  {
   "cell_type": "code",
   "execution_count": 22,
   "metadata": {},
   "outputs": [
    {
     "data": {
      "text/plain": [
       "u'<!DOCTYPE html>\\n<html lang=\"en\">\\n<head>\\n<meta http-equiv=\"X-UA-Compatible\" content=\"IE=edge\">\\n<meta charset=\"utf-8\">\\n<title>Categories of Economic Data | FRED | St. Louis Fed</title>\\n<script>\\n  dataLayer = [];\\n</script>\\n\\n<!-- Google Tag Manager -->\\n<script>(function(w,d,s,l,i){w[l]=w[l]||[];w[l].push({\\'gtm.start\\':\\nnew Date().getTime(),event:\\'gtm.js\\'});var f=d.getElementsByTagName(s)[0],\\nj=d.createElement(s),dl=l!=\\'dataLayer\\'?\\'&l=\\'+l:\\'\\';j.async=true;j.src=\\n\\'//www.googletagmanager.com/gtm.js?id=\\'+i+dl;f.parentNode.insertBefore(j,f);\\n})(window,document,\\'script\\',\\'dataLayer\\',\\'GTM-5L322W\\');</script>\\n<!-- End Google Tag Manager -->\\n\\n        <meta name=\"description\" content=\"72 major categories of economic data. FRED: Download, graph, and track economic data.\">\\n            <meta name=\"keywords\" content=\"Economic Data, FRED, St. Louis Fed, Federal Reserve\">\\n    \\n\\n            <script type=\"application/ld+json\">\\n    {\\n        \"@content\": \"http:\\\\/\\\\/schema.org\",\\n        \"@type\": \"DataCatalog\",\\n        \"name\": \"FRED\",\\n        \"alternateName\": \"Federal Reserve Economic Data\",\\n        \"url\": \"https:\\\\/\\\\/fred.stlouisfed.org\\\\/categories\",\\n        \"publisher\": {\\n            \"@type\": \"Organization\",\\n            \"name\": \"Federal Reserve Bank of St. Louis\",\\n            \"url\": \"https:\\\\/\\\\/www.stlouisfed.org\\\\/\"\\n        }\\n    }\\n    </script>\\n        \\n\\n    <meta name=\"apple-itunes-app\" content=\"app-id=451715489\">\\n    <meta name=\"google-play-app\" content=\"app-id=org.stlouisfed.research.fred\">\\n\\n    \\n    \\n        <meta content=\"width=device-width, initial-scale=1.0, maximum-scale=1.0, user-scalable=0\" name=\"viewport\">\\n    <!--<meta name=\"viewport\" content=\"width=device-width\">-->\\n    <link rel=\"stylesheet\" href=\"/assets/bootstrap/dist/css/bootstrap.min.css\">\\n    <link href=\"/assets/jquery.smartbanner/dist/jquery.smartbanner.min.css\" rel=\"stylesheet\" type=\"text/css\">\\n    <link rel=\"stylesheet\" href=\"/assets/jquery-ui/dist/jquery-ui.css\">\\n    <link href=\"/assets/components-font-awesome/css/font-awesome.min.css\" rel=\"stylesheet\">\\n    <link rel=\"stylesheet\" type=\"text/css\" href=\"/css/main.css?date=20180929\">\\n    <link href=\"https://fonts.googleapis.com/icon?family=Material+Icons\" rel=\"stylesheet\">\\n\\n    <!--[if IE]>\\n    <link rel=\"stylesheet\" type=\"text/css\" href=\"/css/ie.css\">\\n    <![endif]-->\\n    \\n    \\n<!--[if IE 8]><!-->\\n<script src=\"/js/lib/respond.js\"></script>\\n<!--<![endif]-->\\n</head>\\n<body class=\"categories\">\\n<script>\\n  var appConfig = {\\n      uapi_host: \\'https://uapi.stlouisfed.org\\',\\n      research_host: \\'https://research.stlouisfed.org\\',\\n      alfred_host: \\'https://alfred.stlouisfed.org\\',\\n      fred_host: \\'https://fred.stlouisfed.org\\',\\n      gsi_client_id: \\'115290014367-vpb89b600koe9kn0njeeq38c1unfr3gk.apps.googleusercontent.com\\'\\n  };\\n</script>\\n<!-- Google Tag Manager (noscript) -->\\n<noscript><iframe src=\"https://www.googletagmanager.com/ns.html?id=GTM-5L322W\"\\nheight=\"0\" width=\"0\" style=\"display:none;visibility:hidden\"></iframe></noscript>\\n<!-- End Google Tag Manager (noscript) -->\\n\\n<!--googleoff: snippet-->\\n<a href=\"#content-container\" class=\"sr-only sr-only-focusable\">Skip to main content</a>\\n<!--googleon: snippet-->\\n<a name=\"top\" id=\"top\"></a>\\n<!--[if lt IE 7 ]> <div id=\"container\" class=\"ie6 container\"><![endif]-->\\n<!--[if IE 7 ]> <div id=\"container\" class=\"ie7 container\"><![endif]-->\\n<!--[if IE 8 ]> <div id=\"container\" class=\"ie8 container\"><![endif]-->\\n<!--[if IE 9 ]> <div id=\"container\" class=\"ie9 container\"><![endif]-->\\n<!--[if IE]> <div id=\"container\" class=\"ie container\"><![endif]-->\\n<!--[if !(IE)]><!--> <div id=\"container\" class=\"container\"><!--<![endif]-->\\n<div id=\"header\" class=\"col-xs-12\">\\n    <div>\\n    <div id=\"hidden-user\" class=\\'hide\\'></div>\\n    <div id=\"action-modal\"></div>\\n      <div class=\"col-xs-10 col-sm-12 col-md-8 header-logo\">\\n        <a href=\"/\">\\n          <img src=\"/images/fred-masthead-2x.png\" id=\"fred-logo\" alt=\"FRED\" class=\"hidden-xs\">\\n          <span style=\"margin-top:6px;\" class=\"visible-xs\" id=\"logo-replacement\">\\n            <img src=\"/images/fred-masthead-mobile-2x.png\" id=\"fred-logo\" alt=\"FRED\" class=\"visible-xs\">\\n          </span>\\n        </a>\\n        <a href=\"https://research.stlouisfed.org\">\\n          <img src=\"/images/fred-masthead-research-2x.png\" id=\"logo\" alt=\"Economic Research - Federal Reserve Bank of St. Louis\" class=\"hidden-xs\">\\n        </a>\\n    </div>\\n    <div id=\"head-right\" class=\"col-xs-2 col-sm-12 col-md-4\" style=\"padding-right: 5px; padding-left: 0;text-align: right;\">\\n        <span class=\"visible-xs-block\">\\n            <a class=\"btn btn-default btn-sm\" data-parent=\"#research-nav\" data-toggle=\"collapse\" data-target=\"#nav-inner\" href=\"#\" style=\"margin-top:10px;\">\\n            <i class=\"fa fa-bars fa-2x\"></i></a>\\n        </span>\\n        <div class=\"hidden-xs\" id=\"signin-wrap\">\\n            <div id=\"user-nav\"></div>\\n        </div>\\n\\n        <form action=\"/search\" id=\"head-search-form\" class=\"hidden-xs col-md-12\">\\n        <div id=\"head-search-container\">\\n            <input type=\"text\" id=\"head-search\" name=\"st\" placeholder=\"Search FRED\">\\n        </div>\\n        </form>\\n    </div>\\n</div>\\n<div id=\"notifications-container\"></div>\\n</div>\\n\\n<style>\\n.navbar-nav>li>a {line-height: inherit;}\\n#nav-accordion .panel { border: none; }\\n#nav-accordion .panel-body { padding: inherit; }\\n#nav-accordion.panel-group { margin-bottom: inherit; }\\n</style>\\n\\n<nav class=\"col-xs-12 navbar\" id=\"research-nav\" role=\"navigation\">\\n<div id=\"nav-inner\" class=\"navbar-collapse collapse\" style=\"padding-left: 0; padding-right: 0;\">\\n\\n   <form action=\"/search\" id=\"nav-search-form\" class=\"visible-xs-block col-xs-12\" style=\"margin-top: 8px;margin-bottom: 4px;\">\\n       <div class=\"input-group\" id=\"nav-search-container\">\\n           <input type=\"text\" class=\"form-control\" id=\"nav-search\" name=\"st\" placeholder=\"Search FRED\">\\n           <span class=\"input-group-btn\">\\n               <button type=\"submit\" class=\"btn btn-default\" id=\"nav-search-button\"><i class=\"fa fa-search\"></i></button>\\n           </span>\\n       </div>\\n   </form>\\n\\n   <ul id=\"main-nav\" class=\"navbar navbar-nav col-xs-12\">\\n        <li>\\n            <a href=\"/\" id=\"fred-link\">FRED<span class=\"trademark\">&reg;</span> Economic Data</a>\\n        </li>\\n        <li class=\"visible-xs\">\\n            <a href=\"https://research.stlouisfed.org/useraccount/\">My Account</a>\\n        </li>\\n        <li>\\n            <a href=\"https://research.stlouisfed.org/info-services.html\" class=\"research-site-link\">Information Services</a>\\n        </li>\\n        <li>\\n            <a href=\"https://research.stlouisfed.org/publications/\" id=\"publications-link\" class=\"research-site-link\">Publications</a>\\n        </li>\\n        <li>\\n            <a href=\"https://research.stlouisfed.org/wp/\" id=\"workingpapers-link\" class=\"research-site-link\">Working Papers</a>\\n        </li>\\n        <li>\\n            <a href=\"https://research.stlouisfed.org/econ/\" id=\"economist-link\" class=\"research-site-link\">Economists</a>\\n        </li>\\n        <li>\\n            <a href=\"https://research.stlouisfed.org/about.html\" class=\"research-site-link\">About</a>\\n        </li>\\n        <li class=\"hidden-xs hidden-sm navbar-right\" style=\"border:0\">\\n            <a href=\"http://www.stlouisfed.org\" class=\"research-site-link\">St. Louis Fed Home</a>\\n        </li>\\n    </ul>\\n</div>\\n</nav>\\n\\n\\n<div style=\"padding-left: 10px; padding-right: 10px;\" class=\"clear\" id=\"content-container\">\\n\\n\\n    <div class=\"col-sm-3 content-2columns-left hidden-xs\">\\n        <h2>Browse Data</h2>\\n    <ul class=\"list-bullets\">\\n        <li><a href=\"/tags/series\">All Series</a></li>\\n        <li><a href=\"/tags/\">Tags</a></li>\\n        <li><a href=\"/categories/\">Categories</a></li>\\n        <li><a href=\"/releases/\">Releases</a></li>\\n        <li><a href=\"/sources\">Sources</a></li>\\n        <li><a href=\"/tags/series?ob=lu\">Updates</a></li>\\n        <li><a href=\"/releases/calendar\">Release Calendar</a></li>\\n        <li><a href=\"https://research.stlouisfed.org/pdl\">Published Data Lists</a></li>\\n    </ul>\\n\\n    <h2>Tools</h2>\\n    <ul class=\"list-icons\">\\n        <li><a href=\"https://research.stlouisfed.org/useraccount/datalists/\" class=\"icon-datalist\">My Data Lists</a></li>\\n        <li><a href=\"/graph/\" class=\"icon-graph\">FRED Graph</a></li>\\n        <li><a href=\"https://research.stlouisfed.org/fred-mobile/\" class=\"icon-iphone\">FRED Mobile Apps</a></li>\\n        <li><a href=\"https://research.stlouisfed.org/fred-addin/\" class=\"icon-excel\">FRED Add-In</a><span style=\"margin-left:22px\">for Microsoft&reg; Excel&reg;</span></li>\\n        <li><a href=\"https://geofred.stlouisfed.org\" class=\"icon-map\">GeoFRED<span class=\"icon-offsite\">&nbsp;</span></a></li>\\n        <li><a href=\"https://research.stlouisfed.org/docs/api/\" class=\"icon-api\">Developer API<span class=\"icon-offsite\">&nbsp;</span></a></li>\\n    </ul>\\n\\n\\n        <h2>Need Help?</h2>\\n    <ul class=\"list-bullets\">\\n        <li><a class=\"need-help\" href=\"https://fredhelp.stlouisfed.org/fred/data/finding-data/freds-tags/\">Learn about Tags</a></li>\\n        <li><a class=\"need-help\" href=\"https://fredhelp.stlouisfed.org\">Tutorials</a></li>\\n        <li><a class=\"need-help\" href=\"https://fredhelp.stlouisfed.org/#fred-faq-frequently-asked-questions\">FAQs</a></li>\\n        <li><a class=\"need-help\" href=\"https://fred.stlouisfed.org/contactus/\">Email Us</a></li>\\n    </ul>\\n</div>\\n\\n\\n    <div class=\"col-xs-12 col-sm-9 content-2columns-main\">\\n\\n\\n\\n      <div id=\"page-title\" class=\"page-title\">\\n   <h1>Categories</h1>\\n\\n   </div>\\n   \\n   <div class=\"fred-categories-group\">\\n<p class=\"large fred-categories-parent\">\\n    <a href=\"/categories/32991\"><strong>Money, Banking, &amp; Finance</strong></a> <span class=\"category-count\">(7,500+)</span>\\n</p>\\n<p class=\"fred-categories-children\">\\n        <span class=\"fred-categories-child\"><a href=\"/categories/22\">Interest Rates</a> <span class=\"category-count\">(810+)</span></span>\\n        <span class=\"fred-categories-child\"><a href=\"/categories/15\">Exchange Rates</a> <span class=\"category-count\">(100+)</span></span>\\n        <span class=\"fred-categories-child\"><a href=\"/categories/24\">Monetary Data</a> <span class=\"category-count\">(250+)</span></span>\\n        <span class=\"fred-categories-child\"><a href=\"/categories/46\">Financial Indicators</a> <span class=\"category-count\">(2,000+)</span></span>\\n        <span class=\"fred-categories-child\"><a href=\"/categories/23\">Banking</a> <span class=\"category-count\">(1,900+)</span></span>\\n        <span class=\"fred-categories-child\"><a href=\"/categories/32360\">Business Lending</a> <span class=\"category-count\">(2,100+)</span></span>\\n        <span class=\"fred-categories-child\"><a href=\"/categories/32145\">Foreign Exchange Intervention</a> <span class=\"category-count\"></span></span>\\n        <br class=\"clear\">\\n    <!--[if IE]><br><!endif-->\\n</p>\\n</div>\\n<div class=\"fred-categories-group\">\\n<p class=\"large fred-categories-parent\">\\n    <a href=\"/categories/10\"><strong>Population, Employment, &amp; Labor Markets</strong></a> <span class=\"category-count\">(28,000+)</span>\\n</p>\\n<p class=\"fred-categories-children\">\\n        <span class=\"fred-categories-child\"><a href=\"/categories/12\">Current Population Survey (Household Survey)</a> <span class=\"category-count\">(7,200+)</span></span>\\n        <span class=\"fred-categories-child\"><a href=\"/categories/11\">Current Employment Statistics (Establishment Survey)</a> <span class=\"category-count\">(440+)</span></span>\\n        <span class=\"fred-categories-child\"><a href=\"/categories/32250\">ADP Employment</a> <span class=\"category-count\"></span></span>\\n        <span class=\"fred-categories-child\"><a href=\"/categories/33500\">Education</a> <span class=\"category-count\">(5,000+)</span></span>\\n        <span class=\"fred-categories-child\"><a href=\"/categories/33001\">Income Distribution</a> <span class=\"category-count\">(10+)</span></span>\\n        <span class=\"fred-categories-child\"><a href=\"/categories/32241\">Job Openings and Labor Turnover (JOLTS)</a> <span class=\"category-count\">(270+)</span></span>\\n        <span class=\"fred-categories-child\"><a href=\"/categories/33509\">Labor Market Conditions</a> <span class=\"category-count\">(10+)</span></span>\\n        <span class=\"fred-categories-child\"><a href=\"/categories/104\">Population</a> <span class=\"category-count\">(11,000+)</span></span>\\n        <span class=\"fred-categories-child\"><a href=\"/categories/2\">Productivity &amp; Costs</a> <span class=\"category-count\">(1,100+)</span></span>\\n        <span class=\"fred-categories-child\"><a href=\"/categories/33831\">Minimum Wage</a> <span class=\"category-count\">(9+)</span></span>\\n        <span class=\"fred-categories-child\"><a href=\"/categories/32240\">Weekly Initial Claims</a> <span class=\"category-count\">(6+)</span></span>\\n        <span class=\"fred-categories-child\"><a href=\"/categories/33731\">Tax Data</a> <span class=\"category-count\">(300+)</span></span>\\n        <br class=\"clear\">\\n    <!--[if IE]><br><!endif-->\\n</p>\\n</div>\\n<div class=\"fred-categories-group\">\\n<p class=\"large fred-categories-parent\">\\n    <a href=\"/categories/32992\"><strong>National Accounts</strong></a> <span class=\"category-count\">(15,000+)</span>\\n</p>\\n<p class=\"fred-categories-children\">\\n        <span class=\"fred-categories-child\"><a href=\"/categories/18\">National Income &amp; Product Accounts</a> <span class=\"category-count\">(12,000+)</span></span>\\n        <span class=\"fred-categories-child\"><a href=\"/categories/5\">Federal Government Debt</a> <span class=\"category-count\">(6+)</span></span>\\n        <span class=\"fred-categories-child\"><a href=\"/categories/32251\">Flow of Funds</a> <span class=\"category-count\">(1,900+)</span></span>\\n        <span class=\"fred-categories-child\"><a href=\"/categories/13\">U.S. Trade &amp; International Transactions</a> <span class=\"category-count\">(360+)</span></span>\\n        <br class=\"clear\">\\n    <!--[if IE]><br><!endif-->\\n</p>\\n</div>\\n<div class=\"fred-categories-group\">\\n<p class=\"large fred-categories-parent\">\\n    <a href=\"/categories/1\"><strong>Production &amp; Business Activity</strong></a> <span class=\"category-count\">(9,900+)</span>\\n</p>\\n<p class=\"fred-categories-children\">\\n        <span class=\"fred-categories-child\"><a href=\"/categories/32262\">Business Cycle Expansions &amp; Contractions</a> <span class=\"category-count\">(150+)</span></span>\\n        <span class=\"fred-categories-child\"><a href=\"/categories/32436\">Construction</a> <span class=\"category-count\">(110+)</span></span>\\n        <span class=\"fred-categories-child\"><a href=\"/categories/33490\">Finance Companies</a> <span class=\"category-count\">(120+)</span></span>\\n        <span class=\"fred-categories-child\"><a href=\"/categories/32216\">Health Insurance</a> <span class=\"category-count\"></span></span>\\n        <span class=\"fred-categories-child\"><a href=\"/categories/97\">Housing</a> <span class=\"category-count\">(130+)</span></span>\\n        <span class=\"fred-categories-child\"><a href=\"/categories/3\">Industrial Production &amp; Capacity Utilization</a> <span class=\"category-count\">(1,600+)</span></span>\\n        <span class=\"fred-categories-child\"><a href=\"/categories/32429\">Manufacturing</a> <span class=\"category-count\">(1,200+)</span></span>\\n        <span class=\"fred-categories-child\"><a href=\"/categories/6\">Retail Trade</a> <span class=\"category-count\">(160+)</span></span>\\n        <span class=\"fred-categories-child\"><a href=\"/categories/33441\">Services</a> <span class=\"category-count\">(4,700+)</span></span>\\n        <span class=\"fred-categories-child\"><a href=\"/categories/33492\">Technology</a> <span class=\"category-count\"></span></span>\\n        <span class=\"fred-categories-child\"><a href=\"/categories/33202\">Transportation</a> <span class=\"category-count\">(3+)</span></span>\\n        <span class=\"fred-categories-child\"><a href=\"/categories/33203\">Wholesale Trade</a> <span class=\"category-count\">(60+)</span></span>\\n        <br class=\"clear\">\\n    <!--[if IE]><br><!endif-->\\n</p>\\n</div>\\n<div class=\"fred-categories-group\">\\n<p class=\"large fred-categories-parent\">\\n    <a href=\"/categories/32455\"><strong>Prices</strong></a> <span class=\"category-count\">(12,000+)</span>\\n</p>\\n<p class=\"fred-categories-children\">\\n        <span class=\"fred-categories-child\"><a href=\"/categories/32217\">Commodities</a> <span class=\"category-count\">(190+)</span></span>\\n        <span class=\"fred-categories-child\"><a href=\"/categories/9\">Consumer Price Indexes (CPI and PCE)</a> <span class=\"category-count\">(220+)</span></span>\\n        <span class=\"fred-categories-child\"><a href=\"/categories/33913\">Cryptocurrencies</a> <span class=\"category-count\"></span></span>\\n        <span class=\"fred-categories-child\"><a href=\"/categories/4\">Employment Cost Index</a> <span class=\"category-count\">(130+)</span></span>\\n        <span class=\"fred-categories-child\"><a href=\"/categories/33717\">Health Care Indexes</a> <span class=\"category-count\">(10+)</span></span>\\n        <span class=\"fred-categories-child\"><a href=\"/categories/32261\">House Price Indexes</a> <span class=\"category-count\">(320+)</span></span>\\n        <span class=\"fred-categories-child\"><a href=\"/categories/31\">Producer Price Indexes (PPI)</a> <span class=\"category-count\">(9,400+)</span></span>\\n        <span class=\"fred-categories-child\"><a href=\"/categories/32220\">Trade Indexes</a> <span class=\"category-count\">(830+)</span></span>\\n        <br class=\"clear\">\\n    <!--[if IE]><br><!endif-->\\n</p>\\n</div>\\n<div class=\"fred-categories-group\">\\n<p class=\"large fred-categories-parent\">\\n    <a href=\"/categories/32263\"><strong>International Data</strong></a> <span class=\"category-count\">(130,000+)</span>\\n</p>\\n<p class=\"fred-categories-children\">\\n        <span class=\"fred-categories-child\"><a href=\"/categories/32264\">Countries</a> <span class=\"category-count\">(110,000+)</span></span>\\n        <span class=\"fred-categories-child\"><a href=\"/categories/32955\">Geography</a> <span class=\"category-count\">(100+)</span></span>\\n        <span class=\"fred-categories-child\"><a href=\"/categories/32265\">Indicators</a> <span class=\"category-count\">(82,000+)</span></span>\\n        <span class=\"fred-categories-child\"><a href=\"/categories/32956\">Institutions</a> <span class=\"category-count\">(6,600+)</span></span>\\n        <br class=\"clear\">\\n    <!--[if IE]><br><!endif-->\\n</p>\\n</div>\\n<div class=\"fred-categories-group\">\\n<p class=\"large fred-categories-parent\">\\n    <a href=\"/categories/3008\"><strong>U.S. Regional Data</strong></a> <span class=\"category-count\">(290,000+)</span>\\n</p>\\n<p class=\"fred-categories-children\">\\n        <span class=\"fred-categories-child\"><a href=\"/categories/27281\">States</a> <span class=\"category-count\">(280,000+)</span></span>\\n        <span class=\"fred-categories-child\"><a href=\"/categories/32043\">Census Regions</a> <span class=\"category-count\">(490+)</span></span>\\n        <span class=\"fred-categories-child\"><a href=\"/categories/32061\">BEA Regions</a> <span class=\"category-count\">(2,600+)</span></span>\\n        <span class=\"fred-categories-child\"><a href=\"/categories/32849\">BLS Regions</a> <span class=\"category-count\">(1,600+)</span></span>\\n        <span class=\"fred-categories-child\"><a href=\"/categories/32071\">Federal Reserve Districts</a> <span class=\"category-count\">(880+)</span></span>\\n        <span class=\"fred-categories-child\"><a href=\"/categories/32233\">Freddie Mac Regions</a> <span class=\"category-count\">(3+)</span></span>\\n        <br class=\"clear\">\\n    <!--[if IE]><br><!endif-->\\n</p>\\n</div>\\n<div class=\"fred-categories-group\">\\n<p class=\"large fred-categories-parent\">\\n    <a href=\"/categories/33060\"><strong>Academic Data</strong></a> <span class=\"category-count\">(13,000+)</span>\\n</p>\\n<p class=\"fred-categories-children\">\\n        <span class=\"fred-categories-child\"><a href=\"/categories/33833\">Banking and Monetary Statistics 1914-1941</a> <span class=\"category-count\">(1,600+)</span></span>\\n        <span class=\"fred-categories-child\"><a href=\"/categories/33825\">Data on the nominal term structure model from Kim and Wright</a> <span class=\"category-count\"></span></span>\\n        <span class=\"fred-categories-child\"><a href=\"/categories/33891\">Historical Federal Reserve Data</a> <span class=\"category-count\"></span></span>\\n        <span class=\"fred-categories-child\"><a href=\"/categories/33061\">NBER Macrohistory Database</a> <span class=\"category-count\">(2,700+)</span></span>\\n        <span class=\"fred-categories-child\"><a href=\"/categories/33100\">Penn World Table 7.1</a> <span class=\"category-count\">(4,400+)</span></span>\\n        <span class=\"fred-categories-child\"><a href=\"/categories/33402\">Penn World Table 9.0</a> <span class=\"category-count\">(3,300+)</span></span>\\n        <span class=\"fred-categories-child\"><a href=\"/categories/33120\">Recession Probabilities</a> <span class=\"category-count\"></span></span>\\n        <span class=\"fred-categories-child\"><a href=\"/categories/33123\">Weekly U.S. and State Bond Prices, 1855-1865</a> <span class=\"category-count\"></span></span>\\n        <span class=\"fred-categories-child\"><a href=\"/categories/33201\">Economic Policy Uncertainty</a> <span class=\"category-count\">(6+)</span></span>\\n        <span class=\"fred-categories-child\"><a href=\"/categories/33442\">Sticky Wages and Comovement</a> <span class=\"category-count\">(3+)</span></span>\\n        <span class=\"fred-categories-child\"><a href=\"/categories/33839\">A Millennium of Macroeconomic Data for the UK</a> <span class=\"category-count\">(70+)</span></span>\\n        <br class=\"clear\">\\n    <!--[if IE]><br><!endif-->\\n</p>\\n</div>\\n\\n  <button disabled class=\"drawer-dropdown-trigger filter-tags-btn btn affix btn-block btn-default dropdown-is-active\"><i class=\"fa fa-filter\" style=\"padding-right:5px;\"></i>Filter <span class=\"badge badge-primary hidden\">0</span></button>\\n</div>\\n\\n   \\n       <br class=\"clear\">\\n</div>\\n\\n    <div id=\"footer\" class=\"hidden-print row \">\\n        <a name=\"foot-search-a\" class=\"xs-anchor\"></a>\\n       <form action=\"/search\" id=\"foot-search-form\" class=\"visible-xs-block col-xs-12\">\\n           <div id=\"foot-search-container\">\\n               <input type=\"text\" id=\"foot-search\" name=\"st\" class=\"js-placeholder\" title=\"Search FRED\"><button type=\\'submit\\' class=\"pull-right\" id=\"foot-search-button\">&nbsp;</button>\\n           </div>\\n       </form>\\n\\n       \\n        <div class=\"col-xs-12 col-sm-2\">\\n            <ul>\\n                <li class=\"footer-section-header\">SERVICES</li>\\n                <li><a href=\"/\">FRED&reg;</a></li>\\n                <li><a href=\"https://alfred.stlouisfed.org/\">ALFRED&reg;</a></li>\\n                <li><a href=\"https://geofred.stlouisfed.org\">GeoFRED&reg;</a></li>\\n                <li><a href=\"https://fraser.stlouisfed.org\">FRASER&reg;</a></li>\\n                <li><a href=\"https://ideas.repec.org\">IDEAS</a></li>\\n            </ul>\\n        </div>\\n\\n        <div class=\"col-xs-12 col-sm-2 col-md-3\">\\n            <ul>\\n                <li class=\"footer-section-header\">RESEARCH</li>\\n                <li><a href=\"https://research.stlouisfed.org/regecon/\">Eighth District Economy</a></li>\\n                <li><a href=\"https://research.stlouisfed.org/wp/\">Working Papers</a></li>\\n                <li><a href=\"https://research.stlouisfed.org/conferences/\">Events</a></li>\\n                <li><a href=\"https://research.stlouisfed.org/publications/\">Publications</a></li>\\n                <li><a href=\"https://research.stlouisfed.org/resources.html\">Other Resources</a></li>\\n            </ul>\\n        </div>\\n\\n        <div class=\"col-xs-12 col-sm-3\">\\n            <ul>\\n                <li class=\"footer-section-header\">TOOLS</li>\\n                <li><a href=\"https://research.stlouisfed.org/fred-mobile/\">FRED Mobile Apps</a></li>\\n                <li><a href=\"https://research.stlouisfed.org/fred-addin/\">FRED Add-In for Excel&reg;</a></li>\\n                <li><a href=\"https://research.stlouisfed.org/useraccount/fredcast/\">\\n                    FREDcast\\xae\\n                </a><li>\\n                <li><a href=\"https://fredhelp.stlouisfed.org/fred/graphs/share-my-fred-graph/embedded-fred-a-widget-just-for-you/\">Embeddable FRED Widget</a></li>\\n                <li><a href=\"https://research.stlouisfed.org/docs/api/\">Developer/APIs</a></li>\\n                <li><a href=\"https://research.stlouisfed.org/apps/econwise/\">EconWise iOS App</a></li>\\n            </ul>\\n        </div>\\n        <div class=\"col-xs-12 col-sm-2 \">\\n            <ul>\\n                <li class=\"footer-section-header\">ABOUT</li>\\n                <li><a href=\"https://research.stlouisfed.org/jobopps/\">Careers</a></li>\\n                <li><a class=\"contact-hash\" href=\"https://fred.stlouisfed.org/contactus/\">Contact</a></li>\\n                <li><a href=\"https://research.stlouisfed.org/rss/\">RSS</a></li>\\n                <li><a href=\"https://research.stlouisfed.org/legal.html\">Legal</a></li>\\n                <li><a href=\"https://research.stlouisfed.org/privacy.html\">Privacy Notice & Policy</a></li>\\n            </ul>\\n        </div>\\n        <div class=\"col-xs-12 col-sm-3 col-md-2\">\\n            <ul>\\n                <li class=\"footer-section-header\">OUR SITES</li>\\n                <li><a href=\"http://www.stlouisfed.org/\">St. Louis Fed</a></li>\\n                <li><a href=\"http://federalreserveonline.org\">Federal Reserve System</a></li>\\n                <li><a href=\"https://research.stlouisfed.org\">Research Division</a></li>\\n                <li><a href=\"http://www.stlouisfed.org/education/\">Education Resources</a></li>\\n            </ul>\\n        </div>\\n            </div>\\n\\n        <div class=\"footer2 hidden-print row\">\\n        <div class=\"col-xs-12 col-sm-3\">\\n            <h3>Need Help?</h3>\\n            <div>\\n                <a href=\"https://fred.stlouisfed.org/contactus/\">Questions or Comments</a>\\n            </div>\\n\\n            <div style=\"padding: 10px 0 20px 0;\">\\n                <a href=\"https://fredhelp.stlouisfed.org/\">FRED Help</a>\\n            </div>\\n        </div>\\n\\n        <div class=\"col-xs-12 col-sm-6\">\\n            <div class=\"col-xs-12\">\\n                <h3>Subscribe to the FRED newsletter</h3>\\n                <form role=\"form\" class=\"form-horizontal newsletter-form\" method=\"post\" style=\"padding:0;margin:0\">\\n                    <div>\\n                        <div class=\"col-xs-12\" style=\"padding-left: 0;\">\\n                            <div class=\"input-group\">\\n                                <input type=\"text\" name=\"email\" placeholder=\"Email\" class=\"form-control email\">\\n                                <span class=\"input-group-btn\"><button type=\"submit\" class=\"btn btn-default\" style=\"color: #333;\">Subscribe</button></span>\\n                            </div>\\n                        </div>\\n                    </div>\\n                </form>\\n            </div>\\n        </div>\\n    <hr class=\"visible-xs-block\">\\n    <div class=\"col-xs-12 col-sm-2 col-sm-offset-1\">\\n        <h3>Follow us</h3>\\n        <div class=\"col-xs-12\" style=\"margin-bottom: 10px; padding-left: 0;\">\\n            <a href=\"http://bit.ly/9ngC3L\"><img src=\"/images/twitter-logo-h100-w100.png\" width=\"25\" height=\"25\" alt=\"Twitter logo\"></a>\\n            <a href=\"http://bit.ly/19UjvkQ\"><img src=\"/images/gplus-logo-h50.png\" height=\"25\" width=\"25\" alt=\"Google Plus logo\"></a>\\n            <a href=\"http://bit.ly/HeaderFB\"><img src=\"/images/facebook-logo-h100-w100.png\" width=\"25\" height=\"25\" alt=\"Facebook logo\"></a>\\n            <a href=\"http://bit.ly/aY9TVF\"><img src=\"/images/youtube-logo-h100-w100.png\" height=\"25\" width=\"25\" alt=\"YouTube logo\"></a>\\n            <a href=\"http://bit.ly/d056zL\"><img src=\"/images/linkedin-logo-h50.png\" height=\"25\" width=\"30\" alt=\"LinkedIn logo\"></a>\\n        </div>\\n\\n    </div>\\n</div>\\n\\n    <div class=\"hidden-print visible-xs-block\">\\n        <a style=\"margin: 5px; display: block; padding:5px 10px; text-align: center\" href=\"#top\">Back to Top</a>\\n    </div>\\n\\n    <div id=\"footer-bottom\">\\n        <div id=\"address\">\\n            Federal Reserve Bank of St. Louis,\\n            One Federal Reserve Bank Plaza,\\n            St. Louis, MO 63102\\n        </div>\\n    </div>\\n\\n</div>\\n<script>\\n    // function to parse cookies, and return the value\\n    function getCookie(name) {\\n        var cookies = document.cookie.split(\\';\\');\\n        for (var i in cookies) {\\n            var cookie = cookies[i].trim().split(\\'=\\');\\n            if (cookie[0] == name) {\\n                return cookie[1];\\n            }\\n        }\\n        return null;\\n    }\\n    // certain pages in FRED set a custom tag variable\\n    // this gets sent to Google Analytics so we can see what tags people are using\\n    if (window.tags) {\\n        dataLayer.push({\\'tags\\':tags});\\n\\n    }\\n    \\n    // if the user is logged in, send the value of the liruid cookie to Google Analytics\\n    var researchLiruid = getCookie(\\'research-liruid\\');\\n    dataLayer.push({\\'userId\\':researchLiruid});\\n\\n</script>\\n<script src=\"/assets/modernizr/dist/modernizr.min.js\"></script>\\n<script src=\"/assets/jquery/dist/jquery.min.js\" type=\"text/javascript\"></script>\\n<script src=\"/assets/jquery-ui/dist/jquery-ui.min.js\" type=\"text/javascript\"></script>\\n<script src=\"/assets/bootstrap/dist/js/bootstrap.min.js\"></script>\\n<script>\\n    $(function(){\\n        if ((typeof $.fn.button.noConflict) == \\'function\\') {\\n            $.fn.btn = $.fn.button.noConflict();\\n        }\\n    });\\n    // force expire the .fred.stlouisfed.org _ga cookie\\n    document.cookie = document.cookie + \\'_ga=;domain=.fred.stlouisfed.org;expires=Sat, 01-Jan-2000 00:00:00 GMT\\';\\n</script>\\n\\n<script src=\"/assets/jquery.menu-aim.js\"></script>\\n<script src=\"/js/lib/jquery/plugins/jquery.hotkeys.js\"></script>\\n<script src=\"/js/lib/amplify/amplify.min.js\"></script>\\n<script src=\"/assets/jquery.smartbanner/dist/jquery.smartbanner.min.js\"></script>\\n<script src=/js/common.min.js?1525725282></script>\\n<script src=\"/js/jquery/plugins/jquery.cookie.js\"></script>\\n<script src=/js/vendors.dist.js?1537190338></script>\\n<script src=/js/user-init.js?1531920567></script>\\n<script src=\"/js/banner.js\"></script>\\n\\n\\n\\n      <div id=\"site-feedback-button\">\\n      <img src=\"/images/button.png\" height=\"135\" width=\"36\" class=\"site-feedback-btn\" alt=\"Click to send us feedback\" role=\"button\" data-toggle=\"modal\" data-target=\"#feedback-modal\">\\n   </div>\\n   <div id=\"feedback-modal\" class=\"modal fade\">\\n       <div class=\"modal-dialog\">\\n           <div class=\"modal-content\">\\n              <div class=\"modal-header\">\\n                  <button type=\"button\" class=\"close\" data-dismiss=\"modal\" aria-hidden=\"true\">&times;</button>\\n                  <p>Send Us Feedback</p>\\n              </div>\\n              <div class=\"modal-body\">\\n                  \\n  <div id=\"contact-container\" class=\"col-xs-12 user-form\">\\n<div id=\"feedback-form-status\"></div>\\n         <form id=\"feedback-form\">\\n            <p style=\"font-size:1.2em;font-weight:bold\"><a href=\"https://fredhelp.stlouisfed.org/#fred-data-how-can-i-find-data-on-fred\">View FRED Help for faster help.</a></p>\\n                <div class=\"section mb-10\">\\n                    <label for=\"feedback-form-name\" class=\"field prepend-icon\">\\n                      <input type=\"text\" name=\"contact-name\" id=\"feedback-form-name\" class=\"gui-input\" placeholder=\"Name\">\\n                      <label for=\"contact-name\" class=\"field-icon\">\\n                        <i class=\"fa fa-user\"></i>\\n                      </label>\\n                    </label>\\n                  </div>\\n\\n                <div class=\"section mb-10\">\\n                    <label for=\"feedback-form-email\" class=\"field prepend-icon\">\\n                      <input type=\"text\" name=\"email\" id=\"feedback-form-email\" class=\"gui-input\" placeholder=\"Email Address\">\\n                      <label for=\"email\" class=\"field-icon\">\\n                        <i class=\"fa fa-envelope-o\"></i>\\n                      </label>\\n                    </label>\\n                  </div>\\n\\n                <div class=\"section mb-10\">\\n                    <label for=\"feedback-form-profession\" class=\"field prepend-icon\">\\n                      <input type=\"text\" name=\"profession\" id=\"feedback-form-profession\" class=\"gui-input\" placeholder=\"Profession\">\\n                      <label for=\"profession\" class=\"field-icon\">\\n                        <i class=\"fa fa-suitcase\"></i>\\n                      </label>\\n                    </label>\\n                  </div>\\n                <div class=\"section mb-10\">\\n                    <label for=\"feedback-form-organization\" class=\"field prepend-icon\">\\n                      <input type=\"text\" name=\"organization\" id=\"feedback-form-organization\" class=\"gui-input\" placeholder=\"Organization\">\\n                      <label for=\"organization\" class=\"field-icon\">\\n                        <i class=\"fa fa-building-o\"></i>\\n                      </label>\\n                    </label>\\n                  </div>\\n                <div class=\"section mb-10\">\\n                      <label for=\"feedback-form-product\" class=\"field select\">\\n                        <select id=\"feedback-form-product\" name=\"product\" class=\"empty\">\\n                          <option value=\"\" selected=\"selected\"><i class=\"fa fa-th\"></i>Choose a product... *</option>\\n                          <option value=\"Data and graphs in FRED\">Data and graphs in FRED</option>\\n                          <option value=\"Dashboard, saved graphs, data lists\">Dashboard, saved graphs, data lists</option>\\n                          <option value=\"Maps in GeoFRED\">Maps in GeoFRED</option>\\n                          <option value=\"Retrieving FRED data via Excel Add-In\">Retrieving FRED data via Excel Add-In</option>\\n                          <option value=\"Data and graphs in ALFRED (archival FRED)\">Data and graphs in ALFRED (archival FRED)</option>\\n                          <option value=\"FRED API\">FRED API</option>\\n                          <option value=\"FRED iPhone or iPad app\">FRED iPhone or iPad app</option>\\n                          <option value=\"FRED Android app\">FRED Android app</option>\\n                          <option value=\"Other\">Other</option>\\n\\n                        </select>\\n                        <i class=\"arrow double\"></i>\\n                      </label>\\n                    </div>\\n\\n                <div class=\"section mb-10\">\\n                      <label for=\"feedback-form-topic\" class=\"field select\">\\n                        <select id=\"feedback-form-topic\" name=\"topic\" class=\"empty\">\\n                          <option value=\"\" selected=\"selected\"><i class=\"fa fa-th\"></i>What topic can we assist you with? *</option>\\n                            <option value=\"Technical Question\">Technical Question</option>\\n                            <option value=\"Help with Data\">Help with Data</option>\\n                            <option value=\"Permissions to use the Data\">Permissions to use the Data</option>\\n                            <option value=\"General Inquiry\">General Inquiry</option>\\n                            </select>\\n                            <i class=\"arrow double\"></i>\\n                        </label>\\n                </div>\\n                <div class=\"section mb-10\">\\n                      <label for=\"feedback-form-comments\" class=\"field prepend-icon\">\\n                        <textarea class=\"gui-textarea\" id=\"feedback-form-comments\" name=\"comments\" placeholder=\"Your comments *\"></textarea>\\n                        <label for=\"store-desc\" class=\"field-icon\">\\n                          <i class=\"fa fa-edit\"></i>\\n                        </label>\\n                      </label>\\n                    </div>\\n              <div class=\"hidden aria-hidden\">\\n                   <input type=\"hidden\" id=\"hash-share\" class=\"readonly hidden\" value=\"\" readonly=\"readonly\">\\n\\n              </div>\\n\\n                    <button type=\"submit\" class=\"feedback-form-btn btn btn-primary\">Send feedback</button>\\n              </form>\\n              <div class=\"col-xs-12 mt-10 sm-txt\"><p>We will reply as soon as possible. If you have not received a response within two business days, please send your inquiry again or call (314) 444-3733.</p></div>\\n        </div>\\n              </div><!-- /modal-body -->\\n              <div class=\"modal-footer text-right\">\\n              <button class=\"feedback-form-btn btn btn-primary\" type=\"button\">Send Feeback</button>\\n              </div>\\n\\n          </div><!-- /modal-content -->\\n      </div><!-- /modal-dialog -->\\n    </div><!-- /feedback-modal -->\\n</div>\\n   \\n            <script type=\"text/javascript\">\\n                $(\".expand\").click(function() {\\n                    $(this).toggleClass(\"contract\",\"expand\");\\n                    $(this).parent().children(\"ul:visible\").slideUp();\\n                    $(this).parent().children(\"ul:hidden\").slideDown();\\n                });\\n            </script>\\n        \\n  </body>\\n</html>\\n'"
      ]
     },
     "execution_count": 22,
     "metadata": {},
     "output_type": "execute_result"
    }
   ],
   "source": [
    "mainPage.text"
   ]
  },
  {
   "cell_type": "markdown",
   "metadata": {},
   "source": [
    "### Download the Top 10 Popular Series Data According to the Catogery Index"
   ]
  },
  {
   "cell_type": "markdown",
   "metadata": {},
   "source": [
    "#### Method - 1: Download with Single Thread\n",
    "This method spend very long time."
   ]
  },
  {
   "cell_type": "code",
   "execution_count": null,
   "metadata": {
    "scrolled": true
   },
   "outputs": [],
   "source": [
    "from fredapi import Fred\n",
    "import pandas as pd\n",
    "from tqdm import tqdm\n",
    "import numpy as np\n",
    "fred = Fred(api_key='APIkey')\n",
    "treeDF = pd.read_csv('../data/cateTree.csv', index_col=0)\n",
    "treeDF.index = range(treeDF.shape[0])\n",
    "allData = []\n",
    "dataInfo = []\n",
    "error = []\n",
    "treeDF.index = range(treeDF.shape[0])\n",
    "for index in tqdm(range(treeDF.shape[0])):\n",
    "    try:\n",
    "        popu = fred.search_by_category(treeDF.loc[index, 'cate3Index'], limit=10, order_by='popularity', sort_order='desc')\n",
    "        for detailIndex, detialValues in popu.iterrows():\n",
    "            allData.append(pd.DataFrame(fred.get_series(detailIndex), columns=[detailIndex]))\n",
    "        allDataIn = pd.concat(allData, axis=1)\n",
    "        allDataIn.to_csv('../data/allData.csv')\n",
    "    except:\n",
    "        print treeDF.loc[index, 'cate3Index'], 'can not be found'\n",
    "        error.append(treeDF.loc[index, 'cate3Index'])\n",
    "        np.savetxt('../data/errorLog.csv', error, delimiter=',')"
   ]
  },
  {
   "cell_type": "markdown",
   "metadata": {},
   "source": [
    "#### Method - 2: Download with Multi Thread\n",
    "We try to use multi thread to crawling the data\n",
    "\n",
    "\n"
   ]
  },
  {
   "cell_type": "code",
   "execution_count": null,
   "metadata": {},
   "outputs": [],
   "source": [
    "import time, threading\n",
    "\n",
    "from fredapi import Fred\n",
    "import pandas as pd\n",
    "from tqdm import tqdm\n",
    "import numpy as np\n",
    "fred = Fred(api_key='APIkey')\n",
    "treeDF = pd.read_csv('../data/cateTree.csv', index_col=0)\n",
    "treeDF.index = range(treeDF.shape[0])\n",
    "# Divide the task into multi threads\n",
    "totalWork = treeDF.shape[0]\n",
    "threadNum = 10\n",
    "# How many data to be crawled in the single thread\n",
    "singleWork = int((totalWork)/threadNum)+1\n",
    "\n",
    "def download(rangeCato, name):\n",
    "    print 'thread %s is running...' % threading.current_thread().name\n",
    "    allData = []\n",
    "    dataInfo = []\n",
    "    error = []\n",
    "    for index in rangeCato:\n",
    "        if index < treeDF.shape[0]:\n",
    "            try:\n",
    "                popu = fred.search_by_category(treeDF.loc[index, 'cate3Index'], limit=10, order_by='popularity', sort_order='desc')\n",
    "                for detailIndex, detialValues in popu.iterrows():\n",
    "                    allData.append(pd.DataFrame(fred.get_series(detailIndex), columns=[detailIndex]))\n",
    "                allDataIn = pd.concat(allData, axis=1)\n",
    "                allDataIn.to_csv('../data/allData'+name+'.csv')\n",
    "            except:\n",
    "                print treeDF.loc[index, 'cate3Index'], 'can not be found'\n",
    "                error.append(treeDF.loc[index, 'cate3Index'])\n",
    "                np.savetxt('errorLog'+name+'.csv',error,delimiter=',')\n",
    "    print 'thread %s ended.' % threading.current_thread().name\n",
    "\n",
    "threadList = [threading.Thread(target=download, args=(range(index*singleWork, (index+1)*singleWork), str(index),), name='DownloadThread'+str(index)) for index in range(threadNum)]\n",
    "\n",
    "for index, value in enumerate(threadList):\n",
    "    value.start()\n",
    "for index, value in enumerate(threadList):\n",
    "    value.join()"
   ]
  },
  {
   "cell_type": "markdown",
   "metadata": {},
   "source": [
    "<img src=\"../img/multi-thread.png\" alt=\"multi-thread\" />"
   ]
  },
  {
   "cell_type": "markdown",
   "metadata": {},
   "source": [
    "Concat the data file"
   ]
  },
  {
   "cell_type": "code",
   "execution_count": 1,
   "metadata": {},
   "outputs": [],
   "source": [
    "import pandas as pd\n",
    "allData = []\n",
    "threadNum = 10\n",
    "for index in range(threadNum):\n",
    "    allData.append(pd.read_csv('../data/threadData/allData'+str(index)+'.csv', index_col=0))"
   ]
  },
  {
   "cell_type": "code",
   "execution_count": 4,
   "metadata": {},
   "outputs": [],
   "source": [
    "allDF = pd.concat(allData, axis=1)\n",
    "allDF.to_csv('../data/allData.csv')"
   ]
  },
  {
   "cell_type": "code",
   "execution_count": 6,
   "metadata": {},
   "outputs": [
    {
     "data": {
      "text/plain": [
       "(24092, 829)"
      ]
     },
     "execution_count": 6,
     "metadata": {},
     "output_type": "execute_result"
    }
   ],
   "source": [
    "allDF.shape"
   ]
  },
  {
   "cell_type": "markdown",
   "metadata": {},
   "source": [
    "#### Generate the Information Table of Each Series"
   ]
  },
  {
   "cell_type": "code",
   "execution_count": 7,
   "metadata": {},
   "outputs": [],
   "source": [
    "import time, threading\n",
    "\n",
    "from fredapi import Fred\n",
    "import pandas as pd\n",
    "from tqdm import tqdm\n",
    "import numpy as np\n",
    "fred = Fred(api_key='APIkey')"
   ]
  },
  {
   "cell_type": "code",
   "execution_count": null,
   "metadata": {},
   "outputs": [],
   "source": [
    "Info = []\n",
    "for value in tqdm(allDF.columns):\n",
    "    Info.append(fred.get_series_info(value))\n",
    "# This spend much time. Let's combine the work of crawling information into section 3.2.2"
   ]
  },
  {
   "cell_type": "code",
   "execution_count": 18,
   "metadata": {},
   "outputs": [
    {
     "data": {
      "text/html": [
       "<div>\n",
       "<table border=\"1\" class=\"dataframe\">\n",
       "  <thead>\n",
       "    <tr style=\"text-align: right;\">\n",
       "      <th></th>\n",
       "      <th>frequency</th>\n",
       "      <th>frequency_short</th>\n",
       "      <th>id</th>\n",
       "      <th>last_updated</th>\n",
       "      <th>notes</th>\n",
       "      <th>observation_end</th>\n",
       "      <th>observation_start</th>\n",
       "      <th>popularity</th>\n",
       "      <th>realtime_end</th>\n",
       "      <th>realtime_start</th>\n",
       "      <th>seasonal_adjustment</th>\n",
       "      <th>seasonal_adjustment_short</th>\n",
       "      <th>title</th>\n",
       "      <th>units</th>\n",
       "      <th>units_short</th>\n",
       "    </tr>\n",
       "  </thead>\n",
       "  <tbody>\n",
       "    <tr>\n",
       "      <th>0</th>\n",
       "      <td>Monthly</td>\n",
       "      <td>M</td>\n",
       "      <td>TERMCBAUTO48NS</td>\n",
       "      <td>2018-07-09 14:51:02-05</td>\n",
       "      <td>For further information, please refer to the B...</td>\n",
       "      <td>2018-05-01</td>\n",
       "      <td>1972-02-01</td>\n",
       "      <td>66</td>\n",
       "      <td>2018-09-28</td>\n",
       "      <td>2018-09-28</td>\n",
       "      <td>Not Seasonally Adjusted</td>\n",
       "      <td>NSA</td>\n",
       "      <td>Finance Rate on Consumer Installment Loans at ...</td>\n",
       "      <td>Percent</td>\n",
       "      <td>%</td>\n",
       "    </tr>\n",
       "    <tr>\n",
       "      <th>1</th>\n",
       "      <td>Monthly</td>\n",
       "      <td>M</td>\n",
       "      <td>RIFLPBCIANM60NM</td>\n",
       "      <td>2018-07-09 15:01:02-05</td>\n",
       "      <td>For further information, please refer to the B...</td>\n",
       "      <td>2018-05-01</td>\n",
       "      <td>2006-08-01</td>\n",
       "      <td>52</td>\n",
       "      <td>2018-09-28</td>\n",
       "      <td>2018-09-28</td>\n",
       "      <td>Not Seasonally Adjusted</td>\n",
       "      <td>NSA</td>\n",
       "      <td>Finance Rate on Consumer Installment Loans at ...</td>\n",
       "      <td>Percent</td>\n",
       "      <td>%</td>\n",
       "    </tr>\n",
       "    <tr>\n",
       "      <th>2</th>\n",
       "      <td>Monthly</td>\n",
       "      <td>M</td>\n",
       "      <td>TERMAFCNCNSA</td>\n",
       "      <td>2012-06-26 12:01:23-05</td>\n",
       "      <td>For further information, please refer to the B...</td>\n",
       "      <td>2011-01-01</td>\n",
       "      <td>1971-06-01</td>\n",
       "      <td>38</td>\n",
       "      <td>2018-09-28</td>\n",
       "      <td>2018-09-28</td>\n",
       "      <td>Not Seasonally Adjusted</td>\n",
       "      <td>NSA</td>\n",
       "      <td>New Car Average Finance Rate at Auto Finance C...</td>\n",
       "      <td>Percent</td>\n",
       "      <td>%</td>\n",
       "    </tr>\n",
       "    <tr>\n",
       "      <th>3</th>\n",
       "      <td>Monthly</td>\n",
       "      <td>M</td>\n",
       "      <td>BA3M</td>\n",
       "      <td>2006-06-07 15:42:44-05</td>\n",
       "      <td>Averages of business days, discount basis.</td>\n",
       "      <td>2000-06-01</td>\n",
       "      <td>1941-01-01</td>\n",
       "      <td>31</td>\n",
       "      <td>2018-09-28</td>\n",
       "      <td>2018-09-28</td>\n",
       "      <td>Not Seasonally Adjusted</td>\n",
       "      <td>NSA</td>\n",
       "      <td>3-Month Bankers Acceptance Rate (DISCONTINUED)</td>\n",
       "      <td>Percent</td>\n",
       "      <td>%</td>\n",
       "    </tr>\n",
       "    <tr>\n",
       "      <th>4</th>\n",
       "      <td>Monthly</td>\n",
       "      <td>M</td>\n",
       "      <td>BA6M</td>\n",
       "      <td>2006-06-07 15:42:45-05</td>\n",
       "      <td>Averages of business days, discount basis.</td>\n",
       "      <td>2000-06-01</td>\n",
       "      <td>1976-01-01</td>\n",
       "      <td>18</td>\n",
       "      <td>2018-09-28</td>\n",
       "      <td>2018-09-28</td>\n",
       "      <td>Not Seasonally Adjusted</td>\n",
       "      <td>NSA</td>\n",
       "      <td>6-Month Bankers Acceptance Rate (DISCONTINUED)</td>\n",
       "      <td>Percent</td>\n",
       "      <td>%</td>\n",
       "    </tr>\n",
       "  </tbody>\n",
       "</table>\n",
       "</div>"
      ],
      "text/plain": [
       "  frequency frequency_short               id            last_updated  \\\n",
       "0   Monthly               M   TERMCBAUTO48NS  2018-07-09 14:51:02-05   \n",
       "1   Monthly               M  RIFLPBCIANM60NM  2018-07-09 15:01:02-05   \n",
       "2   Monthly               M     TERMAFCNCNSA  2012-06-26 12:01:23-05   \n",
       "3   Monthly               M             BA3M  2006-06-07 15:42:44-05   \n",
       "4   Monthly               M             BA6M  2006-06-07 15:42:45-05   \n",
       "\n",
       "                                               notes observation_end  \\\n",
       "0  For further information, please refer to the B...      2018-05-01   \n",
       "1  For further information, please refer to the B...      2018-05-01   \n",
       "2  For further information, please refer to the B...      2011-01-01   \n",
       "3         Averages of business days, discount basis.      2000-06-01   \n",
       "4         Averages of business days, discount basis.      2000-06-01   \n",
       "\n",
       "  observation_start popularity realtime_end realtime_start  \\\n",
       "0        1972-02-01         66   2018-09-28     2018-09-28   \n",
       "1        2006-08-01         52   2018-09-28     2018-09-28   \n",
       "2        1971-06-01         38   2018-09-28     2018-09-28   \n",
       "3        1941-01-01         31   2018-09-28     2018-09-28   \n",
       "4        1976-01-01         18   2018-09-28     2018-09-28   \n",
       "\n",
       "       seasonal_adjustment seasonal_adjustment_short  \\\n",
       "0  Not Seasonally Adjusted                       NSA   \n",
       "1  Not Seasonally Adjusted                       NSA   \n",
       "2  Not Seasonally Adjusted                       NSA   \n",
       "3  Not Seasonally Adjusted                       NSA   \n",
       "4  Not Seasonally Adjusted                       NSA   \n",
       "\n",
       "                                               title    units units_short  \n",
       "0  Finance Rate on Consumer Installment Loans at ...  Percent           %  \n",
       "1  Finance Rate on Consumer Installment Loans at ...  Percent           %  \n",
       "2  New Car Average Finance Rate at Auto Finance C...  Percent           %  \n",
       "3     3-Month Bankers Acceptance Rate (DISCONTINUED)  Percent           %  \n",
       "4     6-Month Bankers Acceptance Rate (DISCONTINUED)  Percent           %  "
      ]
     },
     "execution_count": 18,
     "metadata": {},
     "output_type": "execute_result"
    }
   ],
   "source": [
    "pd.concat(Info, axis=1).T.head(5)"
   ]
  },
  {
   "cell_type": "markdown",
   "metadata": {},
   "source": [
    "### Final Version of the Crawling Task"
   ]
  },
  {
   "cell_type": "code",
   "execution_count": null,
   "metadata": {},
   "outputs": [],
   "source": [
    "import time, threading\n",
    "\n",
    "from fredapi import Fred\n",
    "import pandas as pd\n",
    "from tqdm import tqdm\n",
    "import numpy as np\n",
    "fred = Fred(api_key='APIkey')\n",
    "treeDF = pd.read_csv('cateTree.csv', index_col=0)\n",
    "treeDF.index = range(treeDF.shape[0])\n",
    "# Divide the task into multi threads\n",
    "totalWork = treeDF.shape[0]\n",
    "threadNum = 10\n",
    "# How many data to be crawled in the single thread\n",
    "singleWork = int((totalWork+threadNum)/threadNum)\n",
    "\n",
    "def download(rangeCato, name):\n",
    "    print 'thread %s is running...' % threading.current_thread().name\n",
    "    allData = []\n",
    "    dataInfo = []\n",
    "    error = []\n",
    "    for index in rangeCato:\n",
    "        if index < treeDF.shape[0]:\n",
    "            try:\n",
    "                popu = fred.search_by_category(treeDF.loc[index, 'cate3Index'], limit=10, order_by='popularity', sort_order='desc')\n",
    "                for detailIndex, detialValues in popu.iterrows():\n",
    "                    dataInfo.append(fred.get_series_info(detailIndex))\n",
    "                allData.append(pd.DataFrame(fred.get_series(detailIndex), columns=[detailIndex]))\n",
    "                allDataIn = pd.concat(allData, axis=1)\n",
    "                dataInfoIn = pd.concat(dataInfo, axis=1)\n",
    "                allDataIn.to_csv('allData'+name+'.csv')\n",
    "                dataInfoIn.to_csv('info'+name+'.csv')\n",
    "            except:\n",
    "                print treeDF.loc[index, 'cate3Index'], 'can not be found'\n",
    "                error.append(treeDF.loc[index, 'cate3Index'])\n",
    "                np.savetxt('errorLog'+name+'.csv',error,delimiter=',')\n",
    "    print 'thread %s ended.' % threading.current_thread().name\n",
    "\n",
    "threadList = [threading.Thread(target=download, args=(range(index*threadNum, (index+1)*threadNum), str(index),), name='DownloadThread'+str(index)) for index in range(threadNum)]\n",
    "\n",
    "for index, value in enumerate(threadList):\n",
    "    value.start()\n",
    "for index, value in enumerate(threadList):\n",
    "    value.join()\n"
   ]
  },
  {
   "cell_type": "markdown",
   "metadata": {},
   "source": [
    "### Concat All The Data and Information"
   ]
  },
  {
   "cell_type": "code",
   "execution_count": 19,
   "metadata": {},
   "outputs": [],
   "source": [
    "import pandas as pd\n",
    "allData = []\n",
    "threadNum = 10\n",
    "for index in range(threadNum):\n",
    "    allData.append(pd.read_csv('../data/threadData/allData'+str(index)+'.csv', index_col=0))\n",
    "allDF = pd.concat(allData, axis=1)\n",
    "allDF.to_csv('../data/allData.csv')"
   ]
  },
  {
   "cell_type": "code",
   "execution_count": 40,
   "metadata": {},
   "outputs": [],
   "source": [
    "\n",
    "infoData = []\n",
    "\n",
    "for index in range(threadNum):\n",
    "    itemPD = pd.read_csv('../data/threadData/info'+str(index)+'.csv', index_col = 0)\n",
    "    itemPD = itemPD.T\n",
    "    itemPD.index = itemPD['id']\n",
    "    itemPD = itemPD.drop(['id'], 1)\n",
    "    infoData.append(itemPD)"
   ]
  },
  {
   "cell_type": "code",
   "execution_count": 42,
   "metadata": {},
   "outputs": [],
   "source": [
    "infoDF = pd.concat(infoData, axis=0)"
   ]
  },
  {
   "cell_type": "code",
   "execution_count": 47,
   "metadata": {},
   "outputs": [],
   "source": [
    "infoDF.to_csv('../data/infoAll.csv')"
   ]
  },
  {
   "cell_type": "code",
   "execution_count": 49,
   "metadata": {},
   "outputs": [
    {
     "data": {
      "text/plain": [
       "(829, 14)"
      ]
     },
     "execution_count": 49,
     "metadata": {},
     "output_type": "execute_result"
    }
   ],
   "source": [
    "infoDF.shape"
   ]
  },
  {
   "cell_type": "code",
   "execution_count": null,
   "metadata": {},
   "outputs": [],
   "source": []
  }
 ],
 "metadata": {
  "kernelspec": {
   "display_name": "Python 2",
   "language": "python",
   "name": "python2"
  },
  "language_info": {
   "codemirror_mode": {
    "name": "ipython",
    "version": 2
   },
   "file_extension": ".py",
   "mimetype": "text/x-python",
   "name": "python",
   "nbconvert_exporter": "python",
   "pygments_lexer": "ipython2",
   "version": "2.7.10"
  },
  "toc": {
   "base_numbering": 1,
   "nav_menu": {},
   "number_sections": true,
   "sideBar": true,
   "skip_h1_title": true,
   "title_cell": "Table of Contents",
   "title_sidebar": "Contents",
   "toc_cell": false,
   "toc_position": {},
   "toc_section_display": true,
   "toc_window_display": true
  }
 },
 "nbformat": 4,
 "nbformat_minor": 2
}
